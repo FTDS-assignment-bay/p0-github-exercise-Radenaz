{
 "cells": [
  {
   "cell_type": "markdown",
   "metadata": {},
   "source": [
    "# Coba coba\n",
    "\n",
    "Mencoba github. \n",
    "Push :\n",
    "- melalui https"
   ]
  },
  {
   "cell_type": "markdown",
   "metadata": {},
   "source": [
    "# Cara push git\n",
    "- Copy repo. It usually starts with https.\n",
    "- Open cmd or git bash. 'git clone <https repo>' the https you copied previously \n"
   ]
  },
  {
   "cell_type": "markdown",
   "metadata": {},
   "source": [
    "## Jupyter Notebook basic markdown exercise\n",
    "- Well, you can always look for the cheatsheets online!"
   ]
  }
 ],
 "metadata": {
  "language_info": {
   "name": "python"
  }
 },
 "nbformat": 4,
 "nbformat_minor": 2
}
